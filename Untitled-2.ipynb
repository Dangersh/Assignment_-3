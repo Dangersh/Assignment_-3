{
 "cells": [
  {
   "cell_type": "code",
   "execution_count": 38,
   "metadata": {},
   "outputs": [],
   "source": [
    "import numpy as np\n",
    "import matplotlib as plt"
   ]
  },
  {
   "cell_type": "code",
   "execution_count": 39,
   "metadata": {},
   "outputs": [
    {
     "name": "stdout",
     "output_type": "stream",
     "text": [
      "[ 1  2  3  4  5  6  7  8  9 10]\n",
      "<class 'numpy.ndarray'>\n",
      "float64\n"
     ]
    }
   ],
   "source": [
    "A = np.array ([1,2,3,4,5,6,7,8,9,10])\n",
    "\n",
    "print(A)\n",
    "print (type(A))\n",
    "\n",
    "B = np.array ([1.4,2.5,3.2,4.5,5.8,6.7,7.2,8.1,9.3,10.4])\n",
    "print(B.dtype)\n",
    "\n"
   ]
  },
  {
   "cell_type": "code",
   "execution_count": 40,
   "metadata": {},
   "outputs": [
    {
     "name": "stdout",
     "output_type": "stream",
     "text": [
      "[[ 1.  2.  3.  4.  5.]\n",
      " [ 6.  7.  8.  9. 10.]]\n",
      "float64\n"
     ]
    }
   ],
   "source": [
    "C = np.array([[1, 2, 3, 4, 5],\n",
    "              [6, 7, 8, 9, 10]], dtype=np.float64)\n",
    "\n",
    "print(C)\n",
    "print(C.dtype)"
   ]
  },
  {
   "cell_type": "markdown",
   "metadata": {},
   "source": []
  },
  {
   "cell_type": "code",
   "execution_count": 45,
   "metadata": {},
   "outputs": [
    {
     "name": "stdout",
     "output_type": "stream",
     "text": [
      "A[0] = {} 1\n",
      "A[5] = {} 6\n",
      "C[0,2] = {} 3.0\n",
      "C[0][2] = {} 3.0\n",
      "[ 1  2  3  4  5  6  7  8  9 10]\n",
      "8\n"
     ]
    }
   ],
   "source": [
    "print (\"A[0] = {}\", format (A[0]))\n",
    "print (\"A[5] = {}\", format (A[5]))\n",
    "\n",
    "print (\"C[0,2] = {}\", format (C[0,2]))\n",
    "print (\"C[0][2] = {}\", format (C[0][2]))\n",
    "\n",
    "print (A[0:10])\n",
    "\n",
    "print (A[-3])"
   ]
  },
  {
   "cell_type": "code",
   "execution_count": 51,
   "metadata": {},
   "outputs": [
    {
     "name": "stdout",
     "output_type": "stream",
     "text": [
      "[100   2   3   4   5   6   7   8   9  10]\n",
      "[100   2   3   4   5]\n"
     ]
    }
   ],
   "source": [
    "D = A[0:5].copy()\n",
    "D[0] = 100\n",
    "\n",
    "print(A)\n",
    "print(D)\n"
   ]
  },
  {
   "cell_type": "code",
   "execution_count": null,
   "metadata": {},
   "outputs": [],
   "source": []
  }
 ],
 "metadata": {
  "kernelspec": {
   "display_name": ".venv",
   "language": "python",
   "name": "python3"
  },
  "language_info": {
   "codemirror_mode": {
    "name": "ipython",
    "version": 3
   },
   "file_extension": ".py",
   "mimetype": "text/x-python",
   "name": "python",
   "nbconvert_exporter": "python",
   "pygments_lexer": "ipython3",
   "version": "3.9.2"
  }
 },
 "nbformat": 4,
 "nbformat_minor": 2
}
