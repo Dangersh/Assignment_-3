{
 "cells": [
  {
   "cell_type": "code",
   "execution_count": 75,
   "metadata": {},
   "outputs": [],
   "source": [
    "import numpy as np\n",
    "import matplotlib as plt"
   ]
  },
  {
   "cell_type": "code",
   "execution_count": 76,
   "metadata": {},
   "outputs": [
    {
     "name": "stdout",
     "output_type": "stream",
     "text": [
      "[ 1  2  3  4  5  6  7  8  9 10]\n",
      "<class 'numpy.ndarray'>\n",
      "float64\n"
     ]
    }
   ],
   "source": [
    "A = np.array ([1,2,3,4,5,6,7,8,9,10])\n",
    "\n",
    "print(A)\n",
    "print (type(A))\n",
    "\n",
    "B = np.array ([1.4,2.5,3.2,4.5,5.8,6.7,7.2,8.1,9.3,10.4])\n",
    "print(B.dtype)\n",
    "\n"
   ]
  },
  {
   "cell_type": "code",
   "execution_count": 77,
   "metadata": {},
   "outputs": [
    {
     "name": "stdout",
     "output_type": "stream",
     "text": [
      "[[ 1.  2.  3.  4.  5.]\n",
      " [ 6.  7.  8.  9. 10.]]\n",
      "float64\n"
     ]
    }
   ],
   "source": [
    "C = np.array([[1, 2, 3, 4, 5],\n",
    "              [6, 7, 8, 9, 10]], dtype=np.float64)\n",
    "\n",
    "print(C)\n",
    "print(C.dtype)"
   ]
  },
  {
   "cell_type": "markdown",
   "metadata": {},
   "source": []
  },
  {
   "cell_type": "code",
   "execution_count": 78,
   "metadata": {},
   "outputs": [
    {
     "name": "stdout",
     "output_type": "stream",
     "text": [
      "A[0] = {} 1\n",
      "A[5] = {} 6\n",
      "C[0,2] = {} 3.0\n",
      "C[0][2] = {} 3.0\n",
      "[ 1  2  3  4  5  6  7  8  9 10]\n",
      "8\n"
     ]
    }
   ],
   "source": [
    "print (\"A[0] = {}\", format (A[0]))\n",
    "print (\"A[5] = {}\", format (A[5]))\n",
    "\n",
    "print (\"C[0,2] = {}\", format (C[0,2]))\n",
    "print (\"C[0][2] = {}\", format (C[0][2]))\n",
    "\n",
    "print (A[0:10])\n",
    "\n",
    "print (A[-3])"
   ]
  },
  {
   "cell_type": "code",
   "execution_count": 79,
   "metadata": {},
   "outputs": [
    {
     "name": "stdout",
     "output_type": "stream",
     "text": [
      "[ 1  2  3  4  5  6  7  8  9 10]\n",
      "[100   2   3   4   5]\n"
     ]
    }
   ],
   "source": [
    "D = A[0:5].copy()\n",
    "D[0] = 100\n",
    "\n",
    "print(A)\n",
    "print(D)\n"
   ]
  },
  {
   "cell_type": "code",
   "execution_count": 80,
   "metadata": {},
   "outputs": [
    {
     "name": "stdout",
     "output_type": "stream",
     "text": [
      "[[0. 0. 0. 0.]\n",
      " [0. 0. 0. 0.]\n",
      " [0. 0. 0. 0.]]\n",
      "[[ 0  1  2  3]\n",
      " [ 4  5  6  7]\n",
      " [ 8  9 10 11]]\n",
      "[ 0  2  4  6  8 10]\n"
     ]
    }
   ],
   "source": [
    "x = np.zeros((3,4), dtype = np.float64)\n",
    "print(x)\n",
    "\n",
    "z = np.arange(12)\n",
    "z = z.reshape(3,4)\n",
    "print(z)\n",
    "\n",
    "W = np.arange(0,12,2)\n",
    "print (W)"
   ]
  },
  {
   "cell_type": "code",
   "execution_count": 81,
   "metadata": {},
   "outputs": [
    {
     "name": "stdout",
     "output_type": "stream",
     "text": [
      "[[ 0  2  4  6]\n",
      " [ 8 10 12 14]\n",
      " [16 18 20 22]\n",
      " [24 26 28 30]]\n"
     ]
    }
   ],
   "source": [
    "import numpy as np\n",
    "\n",
    "L = np.arange(0, 32, 2)\n",
    "L = L.reshape(4, 4)\n",
    "print(L)"
   ]
  },
  {
   "cell_type": "code",
   "execution_count": 84,
   "metadata": {},
   "outputs": [
    {
     "data": {
      "image/png": "[encoded data removed]",
      "text/plain": [
       "<Figure size 640x480 with 1 Axes>"
      ]
     },
     "metadata": {},
     "output_type": "display_data"
    },
    {
     "name": "stdout",
     "output_type": "stream",
     "text": [
      "[-10.          -9.59183673  -9.18367347  -8.7755102   -8.36734694\n",
      "  -7.95918367  -7.55102041  -7.14285714  -6.73469388  -6.32653061\n",
      "  -5.91836735  -5.51020408  -5.10204082  -4.69387755  -4.28571429\n",
      "  -3.87755102  -3.46938776  -3.06122449  -2.65306122  -2.24489796\n",
      "  -1.83673469  -1.42857143  -1.02040816  -0.6122449   -0.20408163\n",
      "   0.20408163   0.6122449    1.02040816   1.42857143   1.83673469\n",
      "   2.24489796   2.65306122   3.06122449   3.46938776   3.87755102\n",
      "   4.28571429   4.69387755   5.10204082   5.51020408   5.91836735\n",
      "   6.32653061   6.73469388   7.14285714   7.55102041   7.95918367\n",
      "   8.36734694   8.7755102    9.18367347   9.59183673  10.        ]\n",
      "[ 2.09000000e+02  1.92598501e+02  1.76863390e+02  1.61794669e+02\n",
      "  1.47392337e+02  1.33656393e+02  1.20586839e+02  1.08183673e+02\n",
      "  9.64468971e+01  8.53765098e+01  7.49725115e+01  6.52349021e+01\n",
      "  5.61636818e+01  4.77588505e+01  4.00204082e+01  3.29483549e+01\n",
      "  2.65426905e+01  2.08034152e+01  1.57305289e+01  1.13240317e+01\n",
      "  7.58392337e+00  4.51020408e+00  2.10287380e+00  3.61932528e-01\n",
      " -7.12619742e-01 -1.12078301e+00 -8.62557268e-01  6.20574761e-02\n",
      "  1.65306122e+00  3.91045398e+00  6.83423574e+00  1.04244065e+01\n",
      "  1.46809663e+01  1.96039150e+01  2.51932528e+01  3.14489796e+01\n",
      "  3.83710954e+01  4.59596002e+01  5.42144940e+01  6.31357768e+01\n",
      "  7.27234486e+01  8.29775094e+01  9.38979592e+01  1.05484798e+02\n",
      "  1.17738026e+02  1.30657643e+02  1.44243648e+02  1.58496043e+02\n",
      "  1.73414827e+02  1.89000000e+02]\n"
     ]
    }
   ],
   "source": [
    "import matplotlib.pyplot as plt\n",
    "import numpy as np\n",
    "\n",
    "x = np.linspace(-10.0, 10.0, 50)\n",
    "y = 2.0 * x ** 2.0 - x - 1.0\n",
    "\n",
    "fig, ax = plt.subplots()\n",
    "ax.plot(x, y)\n",
    "plt.show()\n",
    "\n",
    "print (x)\n",
    "print (y)"
   ]
  },
  {
   "cell_type": "code",
   "execution_count": 90,
   "metadata": {},
   "outputs": [
    {
     "name": "stdout",
     "output_type": "stream",
     "text": [
      "1\n",
      "2\n",
      "3\n",
      "4\n",
      "5\n",
      "6\n",
      "7\n",
      "8\n",
      "9\n",
      "10\n"
     ]
    }
   ],
   "source": [
    "A = np.array ([1,2,3,4,5,6,7,8,9,10])\n",
    "for a in A:\n",
    "    print(a)"
   ]
  },
  {
   "cell_type": "code",
   "execution_count": 92,
   "metadata": {},
   "outputs": [
    {
     "name": "stdout",
     "output_type": "stream",
     "text": [
      "[ 0.  1.  2.  3.  4.  5.  6.  7.  8.  9. 10. 11. 12. 13. 14. 15. 16. 17.\n",
      " 18. 19. 20. 21. 22. 23. 24. 25. 26. 27. 28. 29. 30. 31. 32. 33. 34. 35.\n",
      " 36. 37. 38. 39. 40. 41. 42. 43. 44. 45. 46. 47. 48. 49. 50. 51. 52. 53.\n",
      " 54. 55. 56. 57. 58. 59. 60. 61. 62. 63. 64. 65. 66. 67. 68. 69. 70. 71.\n",
      " 72. 73. 74. 75. 76. 77. 78. 79. 80. 81. 82. 83. 84. 85. 86. 87. 88. 89.\n",
      " 90. 91. 92. 93. 94. 95. 96. 97. 98. 99.]\n",
      "/n\n",
      "[ True False False  True False False  True False False  True False False\n",
      "  True False False  True False False  True False False  True False False\n",
      "  True False False  True False False  True False False  True False False\n",
      "  True False False  True False False  True False False  True False False\n",
      "  True False False  True False False  True False False  True False False\n",
      "  True False False  True False False  True False False  True False False\n",
      "  True False False  True False False  True False False  True False False\n",
      "  True False False  True False False  True False False  True False False\n",
      "  True False False  True]\n",
      "/n\n",
      "[ 0.  3.  6.  9. 12. 15. 18. 21. 24. 27. 30. 33. 36. 39. 42. 45. 48. 51.\n",
      " 54. 57. 60. 63. 66. 69. 72. 75. 78. 81. 84. 87. 90. 93. 96. 99.]\n"
     ]
    }
   ],
   "source": [
    "z = np.linspace(0, 99, 100)\n",
    "\n",
    "print (z)\n",
    "print ('/n')\n",
    "print (z % 3 == 0)\n",
    "print ('/n')\n",
    "print (z[z % 3 == 0])"
   ]
  },
  {
   "cell_type": "code",
   "execution_count": null,
   "metadata": {},
   "outputs": [],
   "source": []
  },
  {
   "cell_type": "code",
   "execution_count": null,
   "metadata": {},
   "outputs": [],
   "source": []
  }
 ],
 "metadata": {
  "kernelspec": {
   "display_name": ".venv",
   "language": "python",
   "name": "python3"
  },
  "language_info": {
   "codemirror_mode": {
    "name": "ipython",
    "version": 3
   },
   "file_extension": ".py",
   "mimetype": "text/x-python",
   "name": "python",
   "nbconvert_exporter": "python",
   "pygments_lexer": "ipython3",
   "version": "3.9.2"
  }
 },
 "nbformat": 4,
 "nbformat_minor": 2
}
